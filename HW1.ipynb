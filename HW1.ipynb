{
 "cells": [
  {
   "cell_type": "markdown",
   "metadata": {
    "id": "MH6d4w6M9Ven"
   },
   "source": [
    "# Introduction to Data Science 2025 – Homework 1\n",
    "*COMP 5360 / MATH 4100, University of Utah, http://datasciencecourse.net/*\n",
    "\n",
    "Due: Friday, January 17, 11:59pm.\n",
    "\n",
    "This homework is designed to practice the skills we learned through Lecture 3: working with loops, conditionals, functions, and the built-in Python data structures. Please review the lectures to aid you.\n",
    "\n",
    "Please avoid the use of online aids (e.g., generative AI) to solve the problems for you. You may always search online to understand how a function works or look up what an error message means. The idea is to **practice basic Python skills** so you are **prepared to debug problems** when online tools have difficulty later in the course. This is like doing addition and subtraction examples by hand when learning *before* learning how to do more advanced problems with calculations.\n",
    "\n",
    "**Note:** You are allowed to use built-in Python functions such as `len` and `range` etc. However, do **NOT** use functions that will solve the exercise entirely such as `reverse` to reverse a list or `sum` to sum a list.\n",
    "\n",
    "**Note:** You may **NOT** use higher-level library functions but should implement everything using functions, loops, and conditionals."
   ]
  },
  {
   "cell_type": "markdown",
   "metadata": {
    "id": "Rl_mJZqA9Vep"
   },
   "source": [
    "## Your Data\n",
    "Fill out the following information: \n",
    "\n",
    "*First Name: Scott   \n",
    "*Last Name: Wardle   \n",
    "*E-mail: Scott.L.Wardle@utah.edu   \n",
    "*UID: u1484669\n"
   ]
  },
  {
   "cell_type": "markdown",
   "metadata": {},
   "source": [
    "### >>> For each problem below, add at least one of your own example test cases <<<\n",
    "\n",
    "Note, we may also include test cases beyond the samples within this notebook."
   ]
  },
  {
   "cell_type": "markdown",
   "metadata": {
    "id": "Ji-nFi-99Ver"
   },
   "source": [
    "## Problem 1: Count Odds\n",
    "\n",
    "Write a function that returns how many odd numbers there are in a list. You can assume the list will contain only numbers."
   ]
  },
  {
   "cell_type": "code",
   "execution_count": 4,
   "metadata": {
    "id": "wr1jIaP59Ves"
   },
   "outputs": [],
   "source": [
    "def count_odds(some_list):\n",
    "    count = 0 #initialize\n",
    "    for x in some_list:\n",
    "        if x % 2 == 1: #if remainder\n",
    "            count += 1 #increment\n",
    "    return count\n"
   ]
  },
  {
   "cell_type": "code",
   "execution_count": 7,
   "metadata": {
    "id": "HVIPPmuP9Vet"
   },
   "outputs": [
    {
     "name": "stdout",
     "output_type": "stream",
     "text": [
      "4\n"
     ]
    }
   ],
   "source": [
    "# sample test case\n",
    "print(count_odds([-15, -112, 14, -29, 17, 360, 86, 128, -12, 0, 23]))"
   ]
  },
  {
   "cell_type": "code",
   "execution_count": 8,
   "metadata": {},
   "outputs": [
    {
     "name": "stdout",
     "output_type": "stream",
     "text": [
      "9\n"
     ]
    }
   ],
   "source": [
    "print(count_odds([9, 19, 20, -78, 35, -99, 79, 60, 1, 89, 179, 67]))"
   ]
  },
  {
   "cell_type": "markdown",
   "metadata": {
    "id": "ohrWTVIt9Veu"
   },
   "source": [
    "## Problem 2: Reversing a List Two Ways\n",
    "\n",
    "Write two functions `reverse_elem` and `reverse_lc` that take a list as a parameter and reverses the order of the elements.\n",
    "\n",
    "`reverse_elem` should use element-wise processing in a loop\n",
    "\n",
    "`reverse_lc` should use a list comprehension"
   ]
  },
  {
   "cell_type": "code",
   "execution_count": 32,
   "metadata": {
    "id": "zr-oNO5H9Vev"
   },
   "outputs": [],
   "source": [
    "def reverse_elem(some_list):\n",
    "    i = 0\n",
    "    list_reverse = [] #empty list\n",
    "    while i < len(some_list): #do while loop for length of list\n",
    "        list_reverse.append(some_list[-(i+1)]) #append to list using index starting at back of list\n",
    "        i += 1\n",
    "    return list_reverse\n",
    "    \n",
    "def reverse_lc(some_list):\n",
    "    #list comprehension has entire argument inside square brackets\n",
    "    return [some_list[i] for i in range(len(some_list)-1,-1,-1)] #start range at len of list -1, back to 0 (-1) going backwards (-1)\n",
    "\n",
    "        \n",
    "        \n",
    "        "
   ]
  },
  {
   "cell_type": "code",
   "execution_count": 22,
   "metadata": {
    "id": "2Bps9lz99Vev"
   },
   "outputs": [
    {
     "name": "stdout",
     "output_type": "stream",
     "text": [
      "[9, 5, 1, 4, 1, 3]\n",
      "['Negative', 'Polychrome', 'Holographic', 'Foil', 'Base']\n",
      "['Mako', 'Bolin', 'Asami', 'Korra', 174, 171, 170]\n"
     ]
    }
   ],
   "source": [
    "# call your function with a couple of different lists and print the results here\n",
    "print(reverse_elem([3, 1, 4, 1, 5, 9]))\n",
    "print(reverse_elem([\"Base\", \"Foil\", \"Holographic\", \"Polychrome\", \"Negative\"]))\n",
    "print(reverse_elem([170, 171, 174, \"Korra\", \"Asami\", \"Bolin\", \"Mako\"]))"
   ]
  },
  {
   "cell_type": "code",
   "execution_count": 34,
   "metadata": {
    "id": "OYRLesZg9Vew"
   },
   "outputs": [
    {
     "name": "stdout",
     "output_type": "stream",
     "text": [
      "[9, 5, 1, 4, 1, 3]\n",
      "['Negative', 'Polychrome', 'Holographic', 'Foil', 'Base']\n",
      "['Mako', 'Bolin', 'Asami', 'Korra', 174, 171, 170]\n"
     ]
    }
   ],
   "source": [
    "print(reverse_lc([3, 1, 4, 1, 5, 9]))\n",
    "print(reverse_lc([\"Base\", \"Foil\", \"Holographic\", \"Polychrome\", \"Negative\"]))\n",
    "print(reverse_lc([170, 171, 174, \"Korra\", \"Asami\", \"Bolin\", \"Mako\"]))"
   ]
  },
  {
   "cell_type": "code",
   "execution_count": 35,
   "metadata": {},
   "outputs": [
    {
     "name": "stdout",
     "output_type": "stream",
     "text": [
      "['Bugs', 'Goofy', 'Daffy', 'Minnie', 'Mickey']\n",
      "['Bugs', 'Goofy', 'Daffy', 'Minnie', 'Mickey']\n"
     ]
    }
   ],
   "source": [
    "# Your test case goes here\n",
    "print(reverse_elem([\"Mickey\", \"Minnie\", \"Daffy\", \"Goofy\", \"Bugs\"]))\n",
    "print(reverse_lc([\"Mickey\", \"Minnie\", \"Daffy\", \"Goofy\", \"Bugs\"]))"
   ]
  },
  {
   "cell_type": "markdown",
   "metadata": {
    "id": "6Jcug3z09Vex"
   },
   "source": [
    "## Problem 3: Combining Two Lists\n",
    "\n",
    "Write a function that combines two lists by alternatingly taking elements from the **back** of the first list and the **front** of the second list, e.g. [a,b,c], [1,2,3] → [c,1,b,2,a,3].\n",
    "In case of two lists of different length, the result should be [a,b,c,d],[1,2]=>[d,1,c,2,b,a], i.e., the elements of the longer list are appended at the end."
   ]
  },
  {
   "cell_type": "code",
   "execution_count": 42,
   "metadata": {
    "id": "F5NHxrtB9Vey"
   },
   "outputs": [
    {
     "data": {
      "text/plain": [
       "['e', '1', 'd', '2', 'c', '3', 'b', '4', 'a']"
      ]
     },
     "execution_count": 42,
     "metadata": {},
     "output_type": "execute_result"
    }
   ],
   "source": [
    "# your code\n",
    "def combine_list(list1,list2):\n",
    "    #first reverse the first list\n",
    "    rev_list1 = list1[::-1]\n",
    "    #get the length of shortest list\n",
    "    min_len = min(len(rev_list1), len(list2))\n",
    "    \n",
    "    #create an empty list\n",
    "    comb_list = []\n",
    "    #create a loop to process thru the elements of the length of smallest list\n",
    "    for i in range(min_len):  \n",
    "        comb_list.append(rev_list1[i]) #append each element from list1 to the new combined list\n",
    "        comb_list.append(list2[i]) #append each element from list2 to the new combined list\n",
    "    if len(rev_list1) > len(list2): #if first list bigger than second\n",
    "        comb_list.extend(rev_list1[min_len:]) #extend the new list by the elements that remain in list1\n",
    "    else: #otherwise\n",
    "        comb_list.extend(list2[min_len:]) #extend the new list by the elements that remain in list2\n",
    "         \n",
    "    return comb_list\n"
   ]
  },
  {
   "cell_type": "code",
   "execution_count": 43,
   "metadata": {
    "id": "XTcxZt1S9Vey"
   },
   "outputs": [
    {
     "name": "stdout",
     "output_type": "stream",
     "text": [
      "['z', 1, 'y', 1, 'x', 2, 'w', 3, 5, 8]\n",
      "[8, 'delta', 2, 'echo', 8, 'foxtrot', 1, 'golf', 7, 2]\n"
     ]
    },
    {
     "data": {
      "text/plain": [
       "['e', '1', 'd', '2', 'c', '3', 'b', '4', 'a']"
      ]
     },
     "execution_count": 43,
     "metadata": {},
     "output_type": "execute_result"
    }
   ],
   "source": [
    "# call your function with a couple of different lists and print the results here\n",
    "print(combine_list(['w', 'x', 'y', 'z'], [1, 1, 2, 3, 5, 8]))\n",
    "print(combine_list([2, 7, 1, 8, 2, 8], ['delta', 'echo', 'foxtrot', 'golf']))\n"
   ]
  },
  {
   "cell_type": "code",
   "execution_count": null,
   "metadata": {},
   "outputs": [],
   "source": [
    "# your test case goes here\n",
    "first_list = ['a', 'b', 'c', 'd', 'e']\n",
    "second_list = ['1', '2', '3', '4']\n",
    "combine_list(first_list, second_list)"
   ]
  },
  {
   "cell_type": "markdown",
   "metadata": {
    "id": "yxKmpVQd9Vez"
   },
   "source": [
    "## Problem 4: Numbers to Digits in Two Ways\n",
    "\n",
    "Write two functions that take a number and return a list of its digits in order, e.g., 789456 → [7, 8, 9, 4, 5, 6].\n",
    "\n",
    "You need to implement two versions of the function: `num_to_digits_elem`, a version with element-wise processing, and `num_to_digits_lc`, a version using the list comprehension way."
   ]
  },
  {
   "cell_type": "code",
   "execution_count": 47,
   "metadata": {
    "id": "NG72kC6t9Ve1"
   },
   "outputs": [
    {
     "name": "stdout",
     "output_type": "stream",
     "text": [
      "[4, 7, 0, 1, 3]\n",
      "[6, 0, 1, 7, 5, 6, 4, 9, 6, 1, 2, 6, 6, 3, 3, 9, 6, 8, 3, 9, 9, 5, 3]\n",
      "\n",
      "[4, 7, 0, 1, 3]\n",
      "[6, 0, 1, 7, 5, 6, 4, 9, 6, 1, 2, 6, 6, 3, 3, 9, 6, 8, 3, 9, 9, 5, 3]\n"
     ]
    }
   ],
   "source": [
    "# your code\n",
    "def num_to_digits_elem(somenumber):\n",
    "    #create empty list\n",
    "    list_of_digits = []\n",
    "    for digit in str(somenumber): #convert the number to a string so we can iterate over it\n",
    "        list_of_digits.append(int(digit)) #append it to the list and change type back to integer\n",
    "    return list_of_digits #return the list created\n",
    "\n",
    "def num_to_digits_lc(somenumber):\n",
    "    list_of_digits = [int(digit) for digit in str(somenumber)] #assign with list comprehension each digit in somenumber\n",
    "    return list_of_digits #return the list created\n",
    "    \n",
    "print(num_to_digits_elem(47013))      \n",
    "print(num_to_digits_elem(60175649612663396839953))\n",
    "print()\n",
    "print(num_to_digits_lc(47013))\n",
    "print(num_to_digits_lc(60175649612663396839953))"
   ]
  },
  {
   "cell_type": "code",
   "execution_count": null,
   "metadata": {
    "id": "3pjI4Gut9Ve2"
   },
   "outputs": [],
   "source": [
    "# call your function with a couple of different numbers and print the results here\n",
    "print(num_to_digits_elem(47013))\n",
    "print(num_to_digits_elem(60175649612663396839953))\n",
    "print()\n",
    "print(num_to_digits_lc(47013))\n",
    "print(num_to_digits_lc(60175649612663396839953))"
   ]
  },
  {
   "cell_type": "code",
   "execution_count": null,
   "metadata": {},
   "outputs": [],
   "source": [
    "# your test case goes here"
   ]
  },
  {
   "cell_type": "markdown",
   "metadata": {
    "id": "5n7BxHMQ9Ve3"
   },
   "source": [
    "## Problem 5: Sums in Four Ways\n",
    "\n",
    "Write four functions that sums the numbers in a list. The first function should use a for-loop, the second a while-loop and the third and fourth should use recursion.\n",
    "\n",
    "The two versions of the function using recursion are: a version copying the list when passing the argument, and another version not copying the list when passing the argument.\n",
    "\n",
    "*Hint 1: Passing a slice of the list as an argument will copy the list.*\n",
    "\n",
    "*Hint 2: A function may need more than one argument, but you should allow the function to be called with only one argument given.*"
   ]
  },
  {
   "cell_type": "code",
   "execution_count": 62,
   "metadata": {
    "id": "-PysUUrU9Ve4"
   },
   "outputs": [],
   "source": [
    "# your code\n",
    "def sum_for(list):\n",
    "    totals = 0 #initialize the sum\n",
    "    for elem in list:\n",
    "        totals += elem #add each element to the total\n",
    "    return totals\n",
    "\n",
    "def sum_while(list):\n",
    "    totals = 0 #intializing\n",
    "    index = 0\n",
    "    while index < len(list): #while loop until reaching list length\n",
    "        totals += list[index] #add the element at that index value\n",
    "        index += 1 #important to increment the index!!\n",
    "    return totals\n",
    "\n",
    "def sum_recursive(list):\n",
    "    if len(list) == 0: #once list length is 0, just return 0\n",
    "        return 0\n",
    "    return list[0] + sum_recursive(list[1:]) #use recursion with slicing off the first element to make a copy\n",
    "\n",
    "def sum_recursive_no_copy(list, index = 0): #start the function with keyword argument index\n",
    "    if index == len(list):\n",
    "        return 0\n",
    "    return list[index] + sum_recursive_no_copy(list, index=index +1) #add to element at current index the element and next index with recursion\n",
    "    \n"
   ]
  },
  {
   "cell_type": "code",
   "execution_count": 63,
   "metadata": {
    "id": "79pC87cC9Ve5"
   },
   "outputs": [
    {
     "name": "stdout",
     "output_type": "stream",
     "text": [
      "36 36 36 36\n",
      "\n",
      "34 34 34 34\n",
      "\n",
      "33 33 33 33\n",
      "\n",
      "22 22 22 22\n"
     ]
    }
   ],
   "source": [
    "# call your function with a couple of different lists and print the results here\n",
    "list1 = range(1,9)\n",
    "list2 = [1, 6, 2, -2, -2, 5, 9, 3, 7, -4, 9]\n",
    "list3 = [1, 8, 2, 0, 3, 9, 1, 8, -2, 3]\n",
    "list4 = [3, 6, 9, -3, 2, 7, 6, 1, -9]\n",
    "\n",
    "print(sum_for(list1), sum_while(list1), sum_recursive(list1), sum_recursive_no_copy(list1))\n",
    "print()\n",
    "print(sum_for(list2), sum_while(list2), sum_recursive(list2), sum_recursive_no_copy(list2))\n",
    "print()\n",
    "print(sum_for(list3), sum_while(list3), sum_recursive(list3), sum_recursive_no_copy(list3))\n",
    "print()\n",
    "print(sum_for(list4), sum_while(list4), sum_recursive(list4), sum_recursive_no_copy(list4))"
   ]
  },
  {
   "cell_type": "code",
   "execution_count": 64,
   "metadata": {},
   "outputs": [
    {
     "name": "stdout",
     "output_type": "stream",
     "text": [
      "136 136 136 136\n"
     ]
    }
   ],
   "source": [
    "# your test case goes here\n",
    "mylist = [10, 2, 24, 32, -22, 57, -6, 39]\n",
    "print(sum_for(mylist), sum_while(mylist), sum_recursive(mylist), sum_recursive_no_copy(mylist))"
   ]
  },
  {
   "cell_type": "markdown",
   "metadata": {
    "id": "_5KdFNEG9Ve5"
   },
   "source": [
    "## Problem 6: Filtering\n",
    "\n",
    "Write a function `filter_alpha` that filters out elements from a list of strings that are alphabetically before a given test string. Preserve capitalization and their sort order.\n",
    "\n",
    "For example, aftering filtering out strings before \"Kilo\" from the list \\['Pulse', 'Chop', 'Puree', 'Stir', 'Liquify', 'Crush'\\] you would return \\['Pulse', 'Puree', 'Stir', 'Liquify'\\]."
   ]
  },
  {
   "cell_type": "code",
   "execution_count": 65,
   "metadata": {
    "id": "RR6AVB7h9Ve6"
   },
   "outputs": [],
   "source": [
    "# your code\n",
    "def filter_alpha(somelist, somestring):\n",
    "    filtered_list = [] #start with empty list\n",
    "    for element in somelist: #look thru each element in the list and output if the element has higher unicode value than the string\n",
    "        if element > somestring:\n",
    "            filtered_list.append(element) #append only if it meets the filter condition\n",
    "    return filtered_list\n",
    "    "
   ]
  },
  {
   "cell_type": "code",
   "execution_count": 66,
   "metadata": {
    "id": "lMvJaf9f9Ve7"
   },
   "outputs": [
    {
     "name": "stdout",
     "output_type": "stream",
     "text": [
      "['Pulse', 'Puree', 'Stir', 'Liquify']\n",
      "['Vixen']\n",
      "['bell', 'ghost', 'Hatch', 'cayenne', 'serrano']\n"
     ]
    }
   ],
   "source": [
    "# call your function with a couple of different n and print the results here\n",
    "print(filter_alpha(['Pulse', 'Chop', 'Puree', 'Stir', 'Liquify', 'Crush'], 'Kilo'))\n",
    "print(filter_alpha(['Dasher', 'Dancer', 'Prancer', 'Vixen', 'Comet', 'Cupid', 'Donner', 'Blitzen'], 'Rudolph'))\n",
    "print(filter_alpha(['bell', 'ghost', 'Hatch', 'cayenne', 'serrano', 'Anaheim', 'Bonney'], 'Fresno'))"
   ]
  },
  {
   "cell_type": "code",
   "execution_count": 68,
   "metadata": {},
   "outputs": [
    {
     "name": "stdout",
     "output_type": "stream",
     "text": [
      "['Jan', 'Feb', 'Mar', 'May', 'Jun', 'Jul', 'Sep', 'Oct', 'Nov', 'Dec']\n"
     ]
    }
   ],
   "source": [
    "# your test case goes here\n",
    "print(filter_alpha(['Jan', 'Feb', 'Mar', 'Apr', 'May', 'Jun', 'Jul', 'Aug', 'Sep', 'Oct', 'Nov', 'Dec'], 'Dan'))"
   ]
  },
  {
   "cell_type": "code",
   "execution_count": null,
   "metadata": {},
   "outputs": [],
   "source": []
  },
  {
   "cell_type": "markdown",
   "metadata": {
    "id": "EGYlBRFG9Ve7"
   },
   "source": [
    "## Problem 7: Pell Numbers\n",
    "\n",
    "Write a function that takes a number `n` and an empty array that writes the first `n` [Pell numbers](https://en.wikipedia.org/wiki/Pell_number) into the empty array. Print the array. \n",
    "\n",
    "The Pell numbers can be generated via a relation where $Pell(x) = 2 * Pell(x-1) + Pell(x-2)$ with $Pell(1) = 1$ and $Pell(0) = 0$. Note that this sequence starts with $Pell(1)$ and $Pell(0)$ is just used in the relation. \n",
    "\n",
    "The sequence begins `1`, `(2*1 + 0) = 2`, `(2*2 + 1) = 5`, `(2*5 + 2) = 12`...\n",
    "\n",
    "Thus, if you call `pell(4)`, it should thus produce `[1, 2, 5, 12]`."
   ]
  },
  {
   "cell_type": "code",
   "execution_count": 71,
   "metadata": {
    "id": "KLhYmYjw9Ve8"
   },
   "outputs": [],
   "source": [
    "# your code  \n",
    "def pell(n,seq):\n",
    "    a = 0 #initialize\n",
    "    if len(seq) == n: #the escape criteria from the recursion when it reaches length of n pell numbers\n",
    "        return\n",
    "        \n",
    "    #accounting for first case\n",
    "    elif len(seq) == 0:\n",
    "        seq.append(1)\n",
    "        \n",
    "    #accounting for second case    \n",
    "    elif len(seq) == 1:\n",
    "        seq.append(2)\n",
    "        \n",
    "    #accounting for cases bigger than 2\n",
    "    else:\n",
    "        a = 2 * seq[-1] + seq[-2]\n",
    "        seq.append(a)\n",
    "    #run the recursion\n",
    "    pell(n,seq)\n",
    "     \n",
    "    "
   ]
  },
  {
   "cell_type": "code",
   "execution_count": 72,
   "metadata": {
    "id": "D0Ben5UQ9Ve9"
   },
   "outputs": [
    {
     "name": "stdout",
     "output_type": "stream",
     "text": [
      "[1, 2, 5, 12, 29, 70, 169, 408, 985, 2378, 5741, 13860, 33461, 80782, 195025, 470832, 1136689]\n"
     ]
    }
   ],
   "source": [
    "# call your function with a couple of different n and print the results here\n",
    "sequence = []\n",
    "pell(17, sequence)\n",
    "#pell(4, sequence)\n",
    "print(sequence)  "
   ]
  },
  {
   "cell_type": "markdown",
   "metadata": {
    "id": "6ycInDlR9Ve9"
   },
   "source": [
    "# Problem 8: Rolling Mean of Piano Practice\n",
    "\n",
    "Write a function `rolling_mean` that takes a list of minutes practicing piano every day, and computes a moving average over every consecutive `k` days. Some days will be missing measurements and will instead have the value `None`.\n",
    "\n",
    "**Caveats:**\n",
    "* The days missing measurements should be included in your `k` day window, but should not affect the average.\n",
    "  * e.g.`rolling_mean([87,None,92],3)` should return `[89.5]`\n",
    "* If all days in a window are missing measurements then the average should also have the value `None`.\n",
    "  * e.g. `rolling_mean([None, None, 53], 2)` should return `[None, 53]`\n",
    "* Only compute averages as long as you have enough data points to fill the window.\n",
    "  * e.g. `rolling_mean([100,25,30,45,50,60,75,80],7)` should return a list of length two.\n",
    "  * e.g. `rolling_mean([120,240,30,45,55],2)` should return a list of length 4.\n",
    "  * e.g. `rolling_mean([100,200,35], 4)` should return an empty list.\n",
    "\n",
    "You can use these as example lists, but make sure that your algorithm works on other lists/windows."
   ]
  },
  {
   "cell_type": "code",
   "execution_count": 89,
   "metadata": {
    "id": "qyQv0Ms19Ve-"
   },
   "outputs": [],
   "source": [
    "# your code \n",
    "def rolling_mean(somelist,k):\n",
    "    list_len = len(somelist)\n",
    "    #print(list_len)\n",
    "    #calculate how long list should be\n",
    "    total_iter = (list_len+1)-k\n",
    "    #print(total_iter)\n",
    "    #start with empty list\n",
    "    mv_avg = []\n",
    "    #case if list is shorter than window\n",
    "    if total_iter <= 0:\n",
    "        print(\"empty list\")\n",
    "        return mv_avg\n",
    "    else:\n",
    "        for i in range(total_iter):\n",
    "            #print(i)\n",
    "            #get a subset of the list\n",
    "            list_sub = somelist[i:k+i]\n",
    "            #print(list_sub)\n",
    "            #If all days in a window are missing measurements then the \n",
    "            #average should also have the value None\n",
    "            if all(not isinstance(minutes, (int, float)) for minutes in list_sub):\n",
    "                mv_avg.append(None)\n",
    "            else:\n",
    "                # remove any entries that are not numbers before getting averages\n",
    "                filter_sub = [x for x in list_sub if isinstance(x, (int, float))]\n",
    "                mv_avg.append(sum(filter_sub) / len(filter_sub))\n",
    "    return mv_avg\n",
    "\n",
    "#print('Length of List: ' + str(len(rolling_mean([100,25,30,45,50,60,75,80],7))), 'Expected Length: 2')            \n",
    "#print(rolling_mean([100,25,30,45,50,60,75,80],7) )  \n",
    "#print(rolling_mean([None, None, 53], 2))\n",
    "        \n",
    "    "
   ]
  },
  {
   "cell_type": "markdown",
   "metadata": {
    "id": "-If3GsvL9Ve_"
   },
   "source": [
    "### From provided examples:"
   ]
  },
  {
   "cell_type": "code",
   "execution_count": 90,
   "metadata": {
    "id": "Aq9L7jCm9Ve_"
   },
   "outputs": [
    {
     "name": "stdout",
     "output_type": "stream",
     "text": [
      "Computed Averages: [89.5] Expected: [89.5]\n",
      "Computed Averages: [None, 53.0] Expected: [None, 53.0]\n",
      "Length of List: 2 Expected Length: 2\n",
      "Length of List: 4 Expected Length: 4\n",
      "empty list\n",
      "Length of List: 0 Expected Length: Empty\n"
     ]
    }
   ],
   "source": [
    "print('Computed Averages: ' + str(rolling_mean([87,None,92],3)), 'Expected: [89.5]')\n",
    "print('Computed Averages: ' + str(rolling_mean([None, None, 53], 2)), 'Expected: [None, 53.0]')\n",
    "print('Length of List: ' + str(len(rolling_mean([100,25,30,45,50,60,75,80],7))), 'Expected Length: 2')\n",
    "print('Length of List: ' + str(len(rolling_mean([120,240,30,45,55],2))), 'Expected Length: 4')\n",
    "print('Length of List: ' + str(len(rolling_mean([100,200,35],4))), 'Expected Length: Empty')"
   ]
  },
  {
   "cell_type": "code",
   "execution_count": 91,
   "metadata": {},
   "outputs": [
    {
     "name": "stdout",
     "output_type": "stream",
     "text": [
      "[126.66666666666667, 95.33333333333333, 32.0, 33.0, 48.666666666666664, 71.66666666666667, 59.666666666666664, 56.0]\n"
     ]
    }
   ],
   "source": [
    "# your test case goes here\n",
    "print(rolling_mean([100,250,30,None,6,60,None,80,75,24, 45],4) )  "
   ]
  },
  {
   "cell_type": "markdown",
   "metadata": {
    "id": "SN5hbWM59Ve_"
   },
   "source": [
    "### Other Examples:"
   ]
  },
  {
   "cell_type": "code",
   "execution_count": 92,
   "metadata": {
    "id": "QUlq4Qxa9VfA"
   },
   "outputs": [],
   "source": [
    "student_1 = range(17)"
   ]
  },
  {
   "cell_type": "code",
   "execution_count": 93,
   "metadata": {
    "id": "iNMtJydP9VfA"
   },
   "outputs": [],
   "source": [
    "student_2 = [75,83,None,95,92,None]"
   ]
  },
  {
   "cell_type": "code",
   "execution_count": 94,
   "metadata": {
    "id": "cJdpAIz49VfB"
   },
   "outputs": [],
   "source": [
    "student_3 = [77,None,None,None,68,60,70,None,92]"
   ]
  },
  {
   "cell_type": "code",
   "execution_count": 95,
   "metadata": {
    "id": "TQekdAqV9VfB"
   },
   "outputs": [],
   "source": [
    "student_4 = [81,72,93]"
   ]
  },
  {
   "cell_type": "code",
   "execution_count": 96,
   "metadata": {
    "id": "9y0XuLyh9VfC"
   },
   "outputs": [],
   "source": [
    "student_5 = [None, None, None, 62]"
   ]
  },
  {
   "cell_type": "code",
   "execution_count": 97,
   "metadata": {
    "id": "ai2zsY7X9VfD"
   },
   "outputs": [],
   "source": [
    "student_6 = []"
   ]
  },
  {
   "cell_type": "code",
   "execution_count": 98,
   "metadata": {
    "id": "0i-LsPMk9VfE"
   },
   "outputs": [
    {
     "name": "stdout",
     "output_type": "stream",
     "text": [
      "[3.5, 4.5, 5.5, 6.5, 7.5, 8.5, 9.5, 10.5, 11.5, 12.5]\n"
     ]
    }
   ],
   "source": [
    "print(rolling_mean(student_1, 8))"
   ]
  },
  {
   "cell_type": "code",
   "execution_count": 99,
   "metadata": {
    "id": "ulr2mV3z9VfE"
   },
   "outputs": [
    {
     "name": "stdout",
     "output_type": "stream",
     "text": [
      "[79.0, 83.0, 95.0, 93.5, 92.0]\n",
      "[79.0, 89.0, 93.5, 93.5]\n"
     ]
    }
   ],
   "source": [
    "print(rolling_mean(student_2, 2))\n",
    "print(rolling_mean(student_2, 3))"
   ]
  },
  {
   "cell_type": "code",
   "execution_count": 100,
   "metadata": {
    "id": "R1plsoR39VfE"
   },
   "outputs": [
    {
     "name": "stdout",
     "output_type": "stream",
     "text": [
      "[77.0, None, None, 68.0, 64.0, 65.0, 70.0, 92.0]\n",
      "[77.0, None, 68.0, 64.0, 66.0, 65.0, 81.0]\n",
      "[77.0, 68.0, 64.0, 66.0, 66.0, 74.0]\n"
     ]
    }
   ],
   "source": [
    "print(rolling_mean(student_3, 2))\n",
    "print(rolling_mean(student_3, 3))\n",
    "print(rolling_mean(student_3, 4))"
   ]
  },
  {
   "cell_type": "code",
   "execution_count": 101,
   "metadata": {
    "id": "mmipCeK69VfF",
    "scrolled": true
   },
   "outputs": [
    {
     "name": "stdout",
     "output_type": "stream",
     "text": [
      "[81.0, 72.0, 93.0]\n",
      "[76.5, 82.5]\n",
      "[82.0]\n",
      "empty list\n",
      "[]\n"
     ]
    }
   ],
   "source": [
    "print(rolling_mean(student_4, 1))\n",
    "print(rolling_mean(student_4, 2))\n",
    "print(rolling_mean(student_4, 3))\n",
    "print(rolling_mean(student_4, 4))"
   ]
  },
  {
   "cell_type": "code",
   "execution_count": 102,
   "metadata": {
    "id": "VdKFZJ249VfF"
   },
   "outputs": [
    {
     "name": "stdout",
     "output_type": "stream",
     "text": [
      "[None, None, None, 62.0]\n",
      "[None, None, 62.0]\n",
      "[None, 62.0]\n",
      "[62.0]\n"
     ]
    }
   ],
   "source": [
    "print(rolling_mean(student_5, 1))\n",
    "print(rolling_mean(student_5, 2))\n",
    "print(rolling_mean(student_5, 3))\n",
    "print(rolling_mean(student_5, 4))"
   ]
  },
  {
   "cell_type": "code",
   "execution_count": 103,
   "metadata": {
    "id": "xnSCyB4W9VfG",
    "scrolled": true
   },
   "outputs": [
    {
     "name": "stdout",
     "output_type": "stream",
     "text": [
      "empty list\n",
      "[]\n",
      "empty list\n",
      "[]\n"
     ]
    }
   ],
   "source": [
    "print(rolling_mean(student_6, 1))\n",
    "print(rolling_mean(student_6, 7))"
   ]
  },
  {
   "cell_type": "markdown",
   "metadata": {},
   "source": [
    "# Problem 9: Reflecting\n",
    "\n",
    "Create a markdown cell below. Succinctly describe what you referenced to help you do the assignment and what the biggest challenges were."
   ]
  },
  {
   "cell_type": "markdown",
   "metadata": {},
   "source": [
    "This was certainly a very challenging assignment for me.  I spent quite a bit of time on it this past week. At least a couple hours each evening on it. I thought some of the helpful resources I used was the pythoncheatsheet site, the docs.python.org site, as well as stackoverflow, just to mention a few.  I spent some time also in with the tutor on Thursday evening and worked on the very challenging Pell numbers problem with him and Carter Hardy from the class.  \n",
    "I'll admit, when I had some errors pop up on some problems, I did resort to using some AI to help understand what was causing the error.  What I found to be particularly helpful was to build out the basic building blocks of the code for each problem and make sure they worked correctly before adding in the more complex components.  \n",
    "I have learned more this week on programming python than I ever thought I could in one week."
   ]
  }
 ],
 "metadata": {
  "anaconda-cloud": {},
  "colab": {
   "provenance": []
  },
  "kernelspec": {
   "display_name": "Python 3 (ipykernel)",
   "language": "python",
   "name": "python3"
  },
  "language_info": {
   "codemirror_mode": {
    "name": "ipython",
    "version": 3
   },
   "file_extension": ".py",
   "mimetype": "text/x-python",
   "name": "python",
   "nbconvert_exporter": "python",
   "pygments_lexer": "ipython3",
   "version": "3.12.7"
  }
 },
 "nbformat": 4,
 "nbformat_minor": 4
}
